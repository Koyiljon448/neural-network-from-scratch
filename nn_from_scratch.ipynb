{
 "cells": [
  {
   "cell_type": "code",
   "execution_count": 30,
   "id": "ade81653-b1c4-478d-85a4-6b5011a30ab2",
   "metadata": {},
   "outputs": [],
   "source": [
    "import numpy as np\n",
    "\n",
    "L = 3\n",
    "n = [2, 3, 3, 1]\n",
    "W1 = np.random.randn(n[1], n[0])\n",
    "W2 = np.random.randn(n[2], n[1])\n",
    "W3 = np.random.randn(n[3], n[2])\n",
    "b1 = np.random.randn(n[1], 1)\n",
    "b2 = np.random.randn(n[2], 1)\n",
    "b3 = np.random.randn(n[3], 1)\n",
    "\n",
    "def prepare_data():\n",
    "  X = np.array([\n",
    "      [150, 70],\n",
    "      [254, 73],\n",
    "      [312, 68],\n",
    "      [120, 60],\n",
    "      [154, 61],\n",
    "      [212, 65],\n",
    "      [216, 67],\n",
    "      [145, 67],\n",
    "      [184, 64],\n",
    "      [130, 69]\n",
    "  ])\n",
    "  y = np.array([0,1,1,0,0,1,1,0,1,0])\n",
    "  m = 10\n",
    "  A0 = X.T\n",
    "  Y = y.reshape(n[L], m)\n",
    "\n",
    "  return A0, Y, m\n",
    "\n"
   ]
  },
  {
   "cell_type": "code",
   "execution_count": 32,
   "id": "f8fe190f-b83a-489e-a863-414516e434e0",
   "metadata": {},
   "outputs": [],
   "source": [
    "def cost(y_hat, y):\n",
    "  \"\"\"\n",
    "  y_hat should be a n^L x m matrix\n",
    "  y should be a n^L x m matrix\n",
    "  \"\"\"\n",
    "  # 1. losses is a n^L x m\n",
    "  losses = - ( (y * np.log(y_hat)) + (1 - y)*np.log(1 - y_hat) )\n",
    "\n",
    "  m = y_hat.reshape(-1).shape[0]\n",
    "\n",
    "  # 2. summing across axis = 1 means we sum across rows, \n",
    "  #   making this a n^L x 1 matrix\n",
    "  summed_losses = (1 / m) * np.sum(losses, axis=1)\n",
    "\n",
    "  # 3. unnecessary, but useful if working with more than one node\n",
    "  #   in output layer\n",
    "  return np.sum(summed_losses)\n",
    "\n",
    "def g(z):\n",
    "  return 1 / (1 + np.exp(-1 * z))\n",
    "\n"
   ]
  },
  {
   "cell_type": "code",
   "execution_count": 34,
   "id": "c56569de-1546-46a3-893e-1c6008ece489",
   "metadata": {},
   "outputs": [],
   "source": [
    "def feed_forward(A0):\n",
    "  # layer 1 calculations\n",
    "  Z1 = W1 @ A0 + b1\n",
    "  A1 = g(Z1)\n",
    "\n",
    "  # layer 2 calculations\n",
    "  Z2 = W2 @ A1 + b2\n",
    "  A2 = g(Z2)\n",
    "\n",
    "  # layer 3 calculations\n",
    "  Z3 = W3 @ A2 + b3\n",
    "  A3 = g(Z3)\n",
    "\n",
    "  cache = {\n",
    "      \"A0\": A0,\n",
    "      \"A1\": A1,\n",
    "      \"A2\": A2\n",
    "  }\n",
    "\n",
    "  return A3, cache"
   ]
  },
  {
   "cell_type": "code",
   "execution_count": 36,
   "id": "47a8feb5-fdbd-4121-b0d2-8eb951ca301d",
   "metadata": {},
   "outputs": [],
   "source": [
    "def backprop_layer_3(y_hat, Y, m, A2, W3):\n",
    "  A3 = y_hat\n",
    "  \n",
    "  # step 1. calculate dC/dZ3 using shorthand we derived earlier\n",
    "  dC_dZ3 = (1/m) * (A3 - Y)\n",
    "  assert dC_dZ3.shape == (n[3], m)\n",
    "\n",
    "\n",
    "  # step 2. calculate dC/dW3 = dC/dZ3 * dZ3/dW3 \n",
    "  #   we matrix multiply dC/dZ3 with (dZ3/dW3)^T\n",
    "  dZ3_dW3 = A2\n",
    "  assert dZ3_dW3.shape == (n[2], m)\n",
    "\n",
    "  dC_dW3 = dC_dZ3 @ dZ3_dW3.T\n",
    "  assert dC_dW3.shape == (n[3], n[2])\n",
    "\n",
    "  # step 3. calculate dC/db3 = np.sum(dC/dZ3, axis=1, keepdims=True)\n",
    "  dC_db3 = np.sum(dC_dZ3, axis=1, keepdims=True)\n",
    "  assert dC_db3.shape == (n[3], 1)\n",
    "\n",
    "  # step 4. calculate propagator dC/dA2 = dC/dZ3 * dZ3/dA2\n",
    "  dZ3_dA2 = W3 \n",
    "  dC_dA2 = W3.T @ dC_dZ3\n",
    "  assert dC_dA2.shape == (n[2], m)\n",
    "\n",
    "  return dC_dW3, dC_db3, dC_dA2"
   ]
  },
  {
   "cell_type": "code",
   "execution_count": 38,
   "id": "55985f6d-41c5-475e-987c-16b593f02f5c",
   "metadata": {},
   "outputs": [],
   "source": [
    "def backprop_layer_2(propagator_dC_dA2, A1, A2, W2):\n",
    "\n",
    "  # step 1. calculate dC/dZ2 = dC/dA2 * dA2/dZ2\n",
    "\n",
    "  # use sigmoid derivation to arrive at this answer:\n",
    "  #   sigmoid'(z) = sigmoid(z) * (1 - sigmoid(z))\n",
    "  #     and if a = sigmoid(z), then sigmoid'(z) = a * (1 - a)\n",
    "  dA2_dZ2 = A2 * (1 - A2)\n",
    "  dC_dZ2 = propagator_dC_dA2 * dA2_dZ2\n",
    "  assert dC_dZ2.shape == (n[2], m)\n",
    "\n",
    "\n",
    "  # step 2. calculate dC/dW2 = dC/dZ2 * dZ2/dW2 \n",
    "  dZ2_dW2 = A1\n",
    "  assert dZ2_dW2.shape == (n[1], m)\n",
    "\n",
    "  dC_dW2 = dC_dZ2 @ dZ2_dW2.T\n",
    "  assert dC_dW2.shape == (n[2], n[1])\n",
    "\n",
    "  # step 3. calculate dC/db2 = np.sum(dC/dZ2, axis=1, keepdims=True)\n",
    "  dC_db2 = np.sum(dC_dW2, axis=1, keepdims=True)\n",
    "  assert dC_db2.shape == (n[2], 1)\n",
    "\n",
    "  # step 4. calculate propagator dC/dA1 = dC/dZ2 * dZ2/dA1\n",
    "  dZ2_dA1 = W2\n",
    "  dC_dA1 = W2.T @ dC_dZ2\n",
    "  assert dC_dA1.shape == (n[2], m)\n",
    "\n",
    "  return dC_dW2, dC_db2, dC_dA1\n",
    "\n"
   ]
  },
  {
   "cell_type": "code",
   "execution_count": 40,
   "id": "04e981fd-87c1-4938-b595-9e42f5e5e70b",
   "metadata": {},
   "outputs": [],
   "source": [
    "def backprop_layer_1(propagator_dC_dA1, A1, A0, W1):\n",
    "\n",
    "  # step 1. calculate dC/dZ1 = dC/dA1 * dA1/dZ1\n",
    "\n",
    "  # use sigmoid derivation to arrive at this answer:\n",
    "  #   sigmoid'(z) = sigmoid(z) * (1 - sigmoid(z))\n",
    "  #     and if a = sigmoid(z), then sigmoid'(z) = a * (1 - a)\n",
    "  dA1_dZ1 = A1 * (1 - A1)\n",
    "  dC_dZ1 = propagator_dC_dA1 * dA1_dZ1\n",
    "  assert dC_dZ1.shape == (n[1], m)\n",
    "\n",
    "\n",
    "  # step 2. calculate dC/dW1 = dC/dZ1 * dZ1/dW1 \n",
    "  dZ1_dW1 = A0\n",
    "  assert dZ1_dW1.shape == (n[0], m)\n",
    "\n",
    "  dC_dW1 = dC_dZ1 @ dZ1_dW1.T\n",
    "  assert dC_dW1.shape == (n[1], n[0])\n",
    "\n",
    "  # step 3. calculate dC/db1 = np.sum(dC/dZ1, axis=1, keepdims=True)\n",
    "  dC_db1 = np.sum(dC_dW1, axis=1, keepdims=True)\n",
    "  assert dC_db1.shape == (n[1], 1)\n",
    "\n",
    "  return dC_dW1, dC_db1"
   ]
  },
  {
   "cell_type": "code",
   "execution_count": 42,
   "id": "75d230b7-98ba-448c-95e8-765f32f6cb82",
   "metadata": {},
   "outputs": [],
   "source": [
    "def train():\n",
    "  # must use global keyword in order to modify global variables\n",
    "  global W3, W2, W1, b3, b2, b1\n",
    "\n",
    "  epochs = 1000 # training for 1000 iterations\n",
    "  alpha = 0.1 # set learning rate to 0.1\n",
    "  costs = [] # list to store costs\n",
    "\n",
    "  for e in range(epochs):\n",
    "    # 1. FEED FORWARD\n",
    "    y_hat, cache = feed_forward(A0)\n",
    "    \n",
    "    # 2. COST CALCULATION\n",
    "    error = cost(y_hat, Y)\n",
    "    costs.append(error)\n",
    "\n",
    "    # 3. BACKPROP CALCULATIONS\n",
    "\n",
    "    dC_dW3, dC_db3, dC_dA2 = backprop_layer_3(\n",
    "        y_hat, \n",
    "        Y, \n",
    "        m, \n",
    "        A2= cache[\"A2\"], \n",
    "        W3=W3\n",
    "    )\n",
    "\n",
    "    dC_dW2, dC_db2, dC_dA1 = backprop_layer_2(\n",
    "        propagator_dC_dA2=dC_dA2, \n",
    "        A1=cache[\"A1\"],\n",
    "        A2=cache[\"A2\"],\n",
    "        W2=W2\n",
    "    )\n",
    "\n",
    "    dC_dW1, dC_db1 = backprop_layer_1(\n",
    "        propagator_dC_dA1=dC_dA1, \n",
    "        A1=cache[\"A1\"],\n",
    "        A0=cache[\"A0\"],\n",
    "        W1=W1\n",
    "    )\n",
    "\n",
    "    # 4. UPDATE WEIGHTS\n",
    "    W3 = W3 - (alpha * dC_dW3)\n",
    "    W2 = W2 - (alpha * dC_dW2)\n",
    "    W1 = W1 - (alpha * dC_dW1)\n",
    "\n",
    "    b3 = b3 - (alpha * dC_db3)\n",
    "    b2 = b2 - (alpha * dC_db2)\n",
    "    b1 = b1 - (alpha * dC_db1)\n",
    "\n",
    "\n",
    "    if e % 20 == 0:\n",
    "      print(f\"epoch {e}: cost = {error:4f}\")\n",
    "  \n",
    "  return costs"
   ]
  },
  {
   "cell_type": "code",
   "execution_count": 44,
   "id": "17d24eb2-c293-40cf-a719-cc2350adc3a4",
   "metadata": {},
   "outputs": [
    {
     "ename": "NameError",
     "evalue": "name 'A0' is not defined",
     "output_type": "error",
     "traceback": [
      "\u001b[0;31m---------------------------------------------------------------------------\u001b[0m",
      "\u001b[0;31mNameError\u001b[0m                                 Traceback (most recent call last)",
      "Cell \u001b[0;32mIn[44], line 1\u001b[0m\n\u001b[0;32m----> 1\u001b[0m costs \u001b[38;5;241m=\u001b[39m train()\n",
      "Cell \u001b[0;32mIn[42], line 11\u001b[0m, in \u001b[0;36mtrain\u001b[0;34m()\u001b[0m\n\u001b[1;32m      7\u001b[0m costs \u001b[38;5;241m=\u001b[39m [] \u001b[38;5;66;03m# list to store costs\u001b[39;00m\n\u001b[1;32m      9\u001b[0m \u001b[38;5;28;01mfor\u001b[39;00m e \u001b[38;5;129;01min\u001b[39;00m \u001b[38;5;28mrange\u001b[39m(epochs):\n\u001b[1;32m     10\u001b[0m   \u001b[38;5;66;03m# 1. FEED FORWARD\u001b[39;00m\n\u001b[0;32m---> 11\u001b[0m   y_hat, cache \u001b[38;5;241m=\u001b[39m feed_forward(A0)\n\u001b[1;32m     13\u001b[0m   \u001b[38;5;66;03m# 2. COST CALCULATION\u001b[39;00m\n\u001b[1;32m     14\u001b[0m   error \u001b[38;5;241m=\u001b[39m cost(y_hat, Y)\n",
      "\u001b[0;31mNameError\u001b[0m: name 'A0' is not defined"
     ]
    }
   ],
   "source": [
    "costs = train()"
   ]
  },
  {
   "cell_type": "code",
   "execution_count": 48,
   "id": "9f5b4332-11ff-4d9b-9c6b-20f1e430a481",
   "metadata": {},
   "outputs": [
    {
     "name": "stdout",
     "output_type": "stream",
     "text": [
      "zsh:1: no matches found: nbconvert[webpdf]\n"
     ]
    }
   ],
   "source": [
    "!pip install nbconvert[webpdf]\n"
   ]
  },
  {
   "cell_type": "code",
   "execution_count": null,
   "id": "a2bc9a15-3324-4e52-b6c2-6e62db4ef059",
   "metadata": {},
   "outputs": [],
   "source": []
  },
  {
   "cell_type": "code",
   "execution_count": 51,
   "id": "45c992d9-9dda-4717-961a-e6c771853ffb",
   "metadata": {},
   "outputs": [
    {
     "name": "stdout",
     "output_type": "stream",
     "text": [
      "7.10.0\n"
     ]
    }
   ],
   "source": [
    "!jupyter nbconvert --version\n"
   ]
  },
  {
   "cell_type": "code",
   "execution_count": 53,
   "id": "cfd873ac-ecab-4903-89a3-1a2e083d2f0a",
   "metadata": {},
   "outputs": [
    {
     "ename": "SyntaxError",
     "evalue": "invalid syntax (755639557.py, line 1)",
     "output_type": "error",
     "traceback": [
      "\u001b[0;36m  Cell \u001b[0;32mIn[53], line 1\u001b[0;36m\u001b[0m\n\u001b[0;31m    brew install chromium\u001b[0m\n\u001b[0m         ^\u001b[0m\n\u001b[0;31mSyntaxError\u001b[0m\u001b[0;31m:\u001b[0m invalid syntax\n"
     ]
    }
   ],
   "source": [
    "brew install chromium\n"
   ]
  },
  {
   "cell_type": "code",
   "execution_count": null,
   "id": "639da56b-8739-4d55-8dc1-f4824d06e7d5",
   "metadata": {},
   "outputs": [],
   "source": [
    "!jupyter nbconvert --to webpdf your_notebook.ipynb\n"
   ]
  }
 ],
 "metadata": {
  "kernelspec": {
   "display_name": "Python 3 (ipykernel)",
   "language": "python",
   "name": "python3"
  },
  "language_info": {
   "codemirror_mode": {
    "name": "ipython",
    "version": 3
   },
   "file_extension": ".py",
   "mimetype": "text/x-python",
   "name": "python",
   "nbconvert_exporter": "python",
   "pygments_lexer": "ipython3",
   "version": "3.12.4"
  }
 },
 "nbformat": 4,
 "nbformat_minor": 5
}
